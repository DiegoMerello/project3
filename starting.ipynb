{
 "cells": [
  {
   "cell_type": "code",
   "execution_count": 1,
   "id": "d7936efd",
   "metadata": {},
   "outputs": [
    {
     "name": "stdout",
     "output_type": "stream",
     "text": [
      "Requirement already satisfied: sklearn in c:\\users\\diego merello\\miniconda3\\envs\\project3\\lib\\site-packages (0.0)\n",
      "Requirement already satisfied: scikit-learn in c:\\users\\diego merello\\miniconda3\\envs\\project3\\lib\\site-packages (from sklearn) (1.0.2)\n",
      "Requirement already satisfied: joblib>=0.11 in c:\\users\\diego merello\\miniconda3\\envs\\project3\\lib\\site-packages (from scikit-learn->sklearn) (1.1.0)\n",
      "Requirement already satisfied: threadpoolctl>=2.0.0 in c:\\users\\diego merello\\miniconda3\\envs\\project3\\lib\\site-packages (from scikit-learn->sklearn) (3.1.0)\n",
      "Requirement already satisfied: numpy>=1.14.6 in c:\\users\\diego merello\\miniconda3\\envs\\project3\\lib\\site-packages (from scikit-learn->sklearn) (1.21.5)\n",
      "Requirement already satisfied: scipy>=1.1.0 in c:\\users\\diego merello\\miniconda3\\envs\\project3\\lib\\site-packages (from scikit-learn->sklearn) (1.8.0)\n"
     ]
    }
   ],
   "source": [
    "! pip install sklearn"
   ]
  },
  {
   "cell_type": "code",
   "execution_count": 2,
   "id": "bedf7698",
   "metadata": {},
   "outputs": [
    {
     "name": "stdout",
     "output_type": "stream",
     "text": [
      "Requirement already satisfied: scipy in c:\\users\\diego merello\\miniconda3\\envs\\project3\\lib\\site-packages (1.8.0)\n",
      "Requirement already satisfied: numpy<1.25.0,>=1.17.3 in c:\\users\\diego merello\\miniconda3\\envs\\project3\\lib\\site-packages (from scipy) (1.21.5)\n",
      "Note: you may need to restart the kernel to use updated packages.\n"
     ]
    }
   ],
   "source": [
    "pip install scipy\n"
   ]
  },
  {
   "cell_type": "code",
   "execution_count": 3,
   "id": "09fbc96f",
   "metadata": {},
   "outputs": [
    {
     "name": "stdout",
     "output_type": "stream",
     "text": [
      "Requirement already satisfied: sklearn in c:\\users\\diego merello\\miniconda3\\envs\\project3\\lib\\site-packages (0.0)\n",
      "Requirement already satisfied: scikit-learn in c:\\users\\diego merello\\miniconda3\\envs\\project3\\lib\\site-packages (from sklearn) (1.0.2)\n",
      "Requirement already satisfied: numpy>=1.14.6 in c:\\users\\diego merello\\miniconda3\\envs\\project3\\lib\\site-packages (from scikit-learn->sklearn) (1.21.5)\n",
      "Requirement already satisfied: threadpoolctl>=2.0.0 in c:\\users\\diego merello\\miniconda3\\envs\\project3\\lib\\site-packages (from scikit-learn->sklearn) (3.1.0)\n",
      "Requirement already satisfied: joblib>=0.11 in c:\\users\\diego merello\\miniconda3\\envs\\project3\\lib\\site-packages (from scikit-learn->sklearn) (1.1.0)\n",
      "Requirement already satisfied: scipy>=1.1.0 in c:\\users\\diego merello\\miniconda3\\envs\\project3\\lib\\site-packages (from scikit-learn->sklearn) (1.8.0)\n",
      "Note: you may need to restart the kernel to use updated packages.\n"
     ]
    }
   ],
   "source": [
    "pip install sklearn\n"
   ]
  },
  {
   "cell_type": "code",
   "execution_count": 4,
   "id": "fc0fa049",
   "metadata": {},
   "outputs": [
    {
     "name": "stdout",
     "output_type": "stream",
     "text": [
      "Requirement already satisfied: sklearn in c:\\users\\diego merello\\miniconda3\\envs\\project3\\lib\\site-packages (0.0)\n",
      "Requirement already satisfied: scikit-learn in c:\\users\\diego merello\\miniconda3\\envs\\project3\\lib\\site-packages (from sklearn) (1.0.2)\n",
      "Requirement already satisfied: scipy>=1.1.0 in c:\\users\\diego merello\\miniconda3\\envs\\project3\\lib\\site-packages (from scikit-learn->sklearn) (1.8.0)\n",
      "Requirement already satisfied: threadpoolctl>=2.0.0 in c:\\users\\diego merello\\miniconda3\\envs\\project3\\lib\\site-packages (from scikit-learn->sklearn) (3.1.0)\n",
      "Requirement already satisfied: joblib>=0.11 in c:\\users\\diego merello\\miniconda3\\envs\\project3\\lib\\site-packages (from scikit-learn->sklearn) (1.1.0)\n",
      "Requirement already satisfied: numpy>=1.14.6 in c:\\users\\diego merello\\miniconda3\\envs\\project3\\lib\\site-packages (from scikit-learn->sklearn) (1.21.5)\n"
     ]
    }
   ],
   "source": [
    "! pip install sklearn"
   ]
  },
  {
   "cell_type": "code",
   "execution_count": 5,
   "id": "8a24dc36",
   "metadata": {},
   "outputs": [
    {
     "name": "stdout",
     "output_type": "stream",
     "text": [
      "Requirement already satisfied: matplotlib in c:\\users\\diego merello\\miniconda3\\envs\\project3\\lib\\site-packages (3.5.1)\n",
      "Requirement already satisfied: python-dateutil>=2.7 in c:\\users\\diego merello\\miniconda3\\envs\\project3\\lib\\site-packages (from matplotlib) (2.8.2)\n",
      "Requirement already satisfied: numpy>=1.17 in c:\\users\\diego merello\\miniconda3\\envs\\project3\\lib\\site-packages (from matplotlib) (1.21.5)\n",
      "Requirement already satisfied: fonttools>=4.22.0 in c:\\users\\diego merello\\miniconda3\\envs\\project3\\lib\\site-packages (from matplotlib) (4.31.2)\n",
      "Requirement already satisfied: cycler>=0.10 in c:\\users\\diego merello\\miniconda3\\envs\\project3\\lib\\site-packages (from matplotlib) (0.11.0)\n",
      "Requirement already satisfied: pillow>=6.2.0 in c:\\users\\diego merello\\miniconda3\\envs\\project3\\lib\\site-packages (from matplotlib) (9.0.1)\n",
      "Requirement already satisfied: kiwisolver>=1.0.1 in c:\\users\\diego merello\\miniconda3\\envs\\project3\\lib\\site-packages (from matplotlib) (1.4.2)\n",
      "Requirement already satisfied: packaging>=20.0 in c:\\users\\diego merello\\miniconda3\\envs\\project3\\lib\\site-packages (from matplotlib) (21.3)\n",
      "Requirement already satisfied: pyparsing>=2.2.1 in c:\\users\\diego merello\\miniconda3\\envs\\project3\\lib\\site-packages (from matplotlib) (3.0.4)\n",
      "Requirement already satisfied: six>=1.5 in c:\\users\\diego merello\\miniconda3\\envs\\project3\\lib\\site-packages (from python-dateutil>=2.7->matplotlib) (1.16.0)\n",
      "Note: you may need to restart the kernel to use updated packages.\n"
     ]
    },
    {
     "name": "stderr",
     "output_type": "stream",
     "text": [
      "WARNING: Retrying (Retry(total=4, connect=None, read=None, redirect=None, status=None)) after connection broken by 'NewConnectionError('<pip._vendor.urllib3.connection.HTTPSConnection object at 0x0000017E78E11DC0>: Failed to establish a new connection: [Errno 11001] getaddrinfo failed')': /simple/matplotlib/\n"
     ]
    }
   ],
   "source": [
    "pip install -U matplotlib"
   ]
  },
  {
   "cell_type": "code",
   "execution_count": 21,
   "id": "354e92a3",
   "metadata": {},
   "outputs": [],
   "source": [
    "import pandas as pd"
   ]
  },
  {
   "cell_type": "code",
   "execution_count": 33,
   "id": "e1f01326",
   "metadata": {},
   "outputs": [],
   "source": [
    "diamonds=pd.read_csv('Diamondssql.csv')\n",
    "df_test=pd.read_csv('diamonds_test.csv')"
   ]
  },
  {
   "cell_type": "code",
   "execution_count": 34,
   "id": "2e7bd1ae",
   "metadata": {},
   "outputs": [
    {
     "data": {
      "text/plain": [
       "Index(['color', 'cut', 'clarity', 'price', 'city', 'depth', 'carat', 'table',\n",
       "       'x', 'y', 'z'],\n",
       "      dtype='object')"
      ]
     },
     "execution_count": 34,
     "metadata": {},
     "output_type": "execute_result"
    }
   ],
   "source": [
    "diamonds.columns"
   ]
  },
  {
   "cell_type": "code",
   "execution_count": 35,
   "id": "72050205",
   "metadata": {},
   "outputs": [
    {
     "data": {
      "text/html": [
       "<div>\n",
       "<style scoped>\n",
       "    .dataframe tbody tr th:only-of-type {\n",
       "        vertical-align: middle;\n",
       "    }\n",
       "\n",
       "    .dataframe tbody tr th {\n",
       "        vertical-align: top;\n",
       "    }\n",
       "\n",
       "    .dataframe thead th {\n",
       "        text-align: right;\n",
       "    }\n",
       "</style>\n",
       "<table border=\"1\" class=\"dataframe\">\n",
       "  <thead>\n",
       "    <tr style=\"text-align: right;\">\n",
       "      <th></th>\n",
       "      <th>color</th>\n",
       "      <th>cut</th>\n",
       "      <th>clarity</th>\n",
       "      <th>price</th>\n",
       "      <th>city</th>\n",
       "      <th>depth</th>\n",
       "      <th>carat</th>\n",
       "      <th>table</th>\n",
       "      <th>x</th>\n",
       "      <th>y</th>\n",
       "      <th>z</th>\n",
       "    </tr>\n",
       "  </thead>\n",
       "  <tbody>\n",
       "    <tr>\n",
       "      <th>0</th>\n",
       "      <td>J</td>\n",
       "      <td>Premium</td>\n",
       "      <td>VS2</td>\n",
       "      <td>4268</td>\n",
       "      <td>Dubai</td>\n",
       "      <td>62.4</td>\n",
       "      <td>1.21</td>\n",
       "      <td>58.0</td>\n",
       "      <td>6.83</td>\n",
       "      <td>6.79</td>\n",
       "      <td>4.25</td>\n",
       "    </tr>\n",
       "    <tr>\n",
       "      <th>1</th>\n",
       "      <td>H</td>\n",
       "      <td>Very Good</td>\n",
       "      <td>VS2</td>\n",
       "      <td>505</td>\n",
       "      <td>Kimberly</td>\n",
       "      <td>63.0</td>\n",
       "      <td>0.32</td>\n",
       "      <td>57.0</td>\n",
       "      <td>4.35</td>\n",
       "      <td>4.38</td>\n",
       "      <td>2.75</td>\n",
       "    </tr>\n",
       "    <tr>\n",
       "      <th>2</th>\n",
       "      <td>G</td>\n",
       "      <td>Fair</td>\n",
       "      <td>VS1</td>\n",
       "      <td>2686</td>\n",
       "      <td>Las Vegas</td>\n",
       "      <td>65.5</td>\n",
       "      <td>0.71</td>\n",
       "      <td>55.0</td>\n",
       "      <td>5.62</td>\n",
       "      <td>5.53</td>\n",
       "      <td>3.65</td>\n",
       "    </tr>\n",
       "    <tr>\n",
       "      <th>3</th>\n",
       "      <td>D</td>\n",
       "      <td>Good</td>\n",
       "      <td>SI1</td>\n",
       "      <td>738</td>\n",
       "      <td>Kimberly</td>\n",
       "      <td>63.8</td>\n",
       "      <td>0.41</td>\n",
       "      <td>56.0</td>\n",
       "      <td>4.68</td>\n",
       "      <td>4.72</td>\n",
       "      <td>3.00</td>\n",
       "    </tr>\n",
       "    <tr>\n",
       "      <th>4</th>\n",
       "      <td>G</td>\n",
       "      <td>Ideal</td>\n",
       "      <td>SI1</td>\n",
       "      <td>4882</td>\n",
       "      <td>Dubai</td>\n",
       "      <td>60.5</td>\n",
       "      <td>1.02</td>\n",
       "      <td>59.0</td>\n",
       "      <td>6.55</td>\n",
       "      <td>6.51</td>\n",
       "      <td>3.95</td>\n",
       "    </tr>\n",
       "    <tr>\n",
       "      <th>...</th>\n",
       "      <td>...</td>\n",
       "      <td>...</td>\n",
       "      <td>...</td>\n",
       "      <td>...</td>\n",
       "      <td>...</td>\n",
       "      <td>...</td>\n",
       "      <td>...</td>\n",
       "      <td>...</td>\n",
       "      <td>...</td>\n",
       "      <td>...</td>\n",
       "      <td>...</td>\n",
       "    </tr>\n",
       "    <tr>\n",
       "      <th>40450</th>\n",
       "      <td>G</td>\n",
       "      <td>Ideal</td>\n",
       "      <td>VS1</td>\n",
       "      <td>10070</td>\n",
       "      <td>Antwerp</td>\n",
       "      <td>62.7</td>\n",
       "      <td>1.34</td>\n",
       "      <td>57.0</td>\n",
       "      <td>7.10</td>\n",
       "      <td>7.04</td>\n",
       "      <td>4.43</td>\n",
       "    </tr>\n",
       "    <tr>\n",
       "      <th>40451</th>\n",
       "      <td>F</td>\n",
       "      <td>Good</td>\n",
       "      <td>SI2</td>\n",
       "      <td>12615</td>\n",
       "      <td>Madrid</td>\n",
       "      <td>57.1</td>\n",
       "      <td>2.02</td>\n",
       "      <td>60.0</td>\n",
       "      <td>8.31</td>\n",
       "      <td>8.25</td>\n",
       "      <td>4.73</td>\n",
       "    </tr>\n",
       "    <tr>\n",
       "      <th>40452</th>\n",
       "      <td>H</td>\n",
       "      <td>Ideal</td>\n",
       "      <td>SI1</td>\n",
       "      <td>5457</td>\n",
       "      <td>Kimberly</td>\n",
       "      <td>62.7</td>\n",
       "      <td>1.01</td>\n",
       "      <td>56.0</td>\n",
       "      <td>6.37</td>\n",
       "      <td>6.42</td>\n",
       "      <td>4.01</td>\n",
       "    </tr>\n",
       "    <tr>\n",
       "      <th>40453</th>\n",
       "      <td>J</td>\n",
       "      <td>Ideal</td>\n",
       "      <td>VS1</td>\n",
       "      <td>456</td>\n",
       "      <td>Kimberly</td>\n",
       "      <td>61.9</td>\n",
       "      <td>0.33</td>\n",
       "      <td>54.3</td>\n",
       "      <td>4.45</td>\n",
       "      <td>4.47</td>\n",
       "      <td>2.76</td>\n",
       "    </tr>\n",
       "    <tr>\n",
       "      <th>40454</th>\n",
       "      <td>I</td>\n",
       "      <td>Ideal</td>\n",
       "      <td>SI1</td>\n",
       "      <td>6232</td>\n",
       "      <td>London</td>\n",
       "      <td>62.0</td>\n",
       "      <td>1.24</td>\n",
       "      <td>58.0</td>\n",
       "      <td>6.83</td>\n",
       "      <td>6.88</td>\n",
       "      <td>4.25</td>\n",
       "    </tr>\n",
       "  </tbody>\n",
       "</table>\n",
       "<p>40455 rows × 11 columns</p>\n",
       "</div>"
      ],
      "text/plain": [
       "      color        cut clarity  price       city  depth  carat  table     x  \\\n",
       "0         J    Premium     VS2   4268      Dubai   62.4   1.21   58.0  6.83   \n",
       "1         H  Very Good     VS2    505   Kimberly   63.0   0.32   57.0  4.35   \n",
       "2         G       Fair     VS1   2686  Las Vegas   65.5   0.71   55.0  5.62   \n",
       "3         D       Good     SI1    738   Kimberly   63.8   0.41   56.0  4.68   \n",
       "4         G      Ideal     SI1   4882      Dubai   60.5   1.02   59.0  6.55   \n",
       "...     ...        ...     ...    ...        ...    ...    ...    ...   ...   \n",
       "40450     G      Ideal     VS1  10070    Antwerp   62.7   1.34   57.0  7.10   \n",
       "40451     F       Good     SI2  12615     Madrid   57.1   2.02   60.0  8.31   \n",
       "40452     H      Ideal     SI1   5457   Kimberly   62.7   1.01   56.0  6.37   \n",
       "40453     J      Ideal     VS1    456   Kimberly   61.9   0.33   54.3  4.45   \n",
       "40454     I      Ideal     SI1   6232     London   62.0   1.24   58.0  6.83   \n",
       "\n",
       "          y     z  \n",
       "0      6.79  4.25  \n",
       "1      4.38  2.75  \n",
       "2      5.53  3.65  \n",
       "3      4.72  3.00  \n",
       "4      6.51  3.95  \n",
       "...     ...   ...  \n",
       "40450  7.04  4.43  \n",
       "40451  8.25  4.73  \n",
       "40452  6.42  4.01  \n",
       "40453  4.47  2.76  \n",
       "40454  6.88  4.25  \n",
       "\n",
       "[40455 rows x 11 columns]"
      ]
     },
     "execution_count": 35,
     "metadata": {},
     "output_type": "execute_result"
    }
   ],
   "source": [
    "diamonds\n"
   ]
  },
  {
   "cell_type": "code",
   "execution_count": 36,
   "id": "55df13a5",
   "metadata": {},
   "outputs": [
    {
     "data": {
      "text/plain": [
       "Index(['id', 'carat', 'cut', 'color', 'clarity', 'depth', 'table', 'x', 'y',\n",
       "       'z', 'city'],\n",
       "      dtype='object')"
      ]
     },
     "execution_count": 36,
     "metadata": {},
     "output_type": "execute_result"
    }
   ],
   "source": [
    "#df_dummies=pd.get_dummies(diamonds)\n",
    "#df_dummies\n",
    "\n",
    "df_test.columns"
   ]
  },
  {
   "cell_type": "code",
   "execution_count": 37,
   "id": "b0e5b5ea",
   "metadata": {},
   "outputs": [],
   "source": [
    "target=['price']\n",
    "cat_features=['cut', 'color', 'clarity', 'city']\n",
    "num_features=['carat', 'depth', 'table', 'x', 'y', 'z']"
   ]
  },
  {
   "cell_type": "code",
   "execution_count": 38,
   "id": "e01daa38",
   "metadata": {},
   "outputs": [],
   "source": [
    "for cat_feat in cat_features:\n",
    "    diamonds[cat_feat]=diamonds[cat_feat].astype('category')\n",
    "    df_test[cat_feat]= df_test[cat_feat].astype('category')"
   ]
  },
  {
   "cell_type": "code",
   "execution_count": 41,
   "id": "3fdafd86",
   "metadata": {},
   "outputs": [],
   "source": [
    "cat_df=pd.get_dummies(diamonds[cat_features])\n",
    "num_df=diamonds.loc[:, num_features]\n",
    "train_df=pd.concat([cat_df,num_df], axis=1)\n",
    "\n",
    "cat_df =pd.get_dummies(df_test[cat_features])\n",
    "num_df=df_test.loc[:, num_features]\n",
    "df_test= pd.concat([cat_df, num_df], axis=1)\n",
    "\n",
    "features= list (cat_df.columns) + list(num_df.columns)"
   ]
  },
  {
   "cell_type": "code",
   "execution_count": 42,
   "id": "088290e9",
   "metadata": {},
   "outputs": [
    {
     "data": {
      "text/plain": [
       "['cut_Fair',\n",
       " 'cut_Good',\n",
       " 'cut_Ideal',\n",
       " 'cut_Premium',\n",
       " 'cut_Very Good',\n",
       " 'color_D',\n",
       " 'color_E',\n",
       " 'color_F',\n",
       " 'color_G',\n",
       " 'color_H',\n",
       " 'color_I',\n",
       " 'color_J',\n",
       " 'clarity_I1',\n",
       " 'clarity_IF',\n",
       " 'clarity_SI1',\n",
       " 'clarity_SI2',\n",
       " 'clarity_VS1',\n",
       " 'clarity_VS2',\n",
       " 'clarity_VVS1',\n",
       " 'clarity_VVS2',\n",
       " 'city_Amsterdam',\n",
       " 'city_Antwerp',\n",
       " 'city_Dubai',\n",
       " 'city_Kimberly',\n",
       " 'city_Las Vegas',\n",
       " 'city_London',\n",
       " 'city_Luxembourg',\n",
       " 'city_Madrid',\n",
       " 'city_New York City',\n",
       " 'city_Paris',\n",
       " 'city_Surat',\n",
       " 'city_Tel Aviv',\n",
       " 'city_Zurich',\n",
       " 'carat',\n",
       " 'depth',\n",
       " 'table',\n",
       " 'x',\n",
       " 'y',\n",
       " 'z']"
      ]
     },
     "execution_count": 42,
     "metadata": {},
     "output_type": "execute_result"
    }
   ],
   "source": [
    "features"
   ]
  },
  {
   "cell_type": "code",
   "execution_count": null,
   "id": "4a89a7d2",
   "metadata": {},
   "outputs": [],
   "source": []
  }
 ],
 "metadata": {
  "kernelspec": {
   "display_name": "Python [conda env:project3]",
   "language": "python",
   "name": "conda-env-project3-py"
  },
  "language_info": {
   "codemirror_mode": {
    "name": "ipython",
    "version": 3
   },
   "file_extension": ".py",
   "mimetype": "text/x-python",
   "name": "python",
   "nbconvert_exporter": "python",
   "pygments_lexer": "ipython3",
   "version": "3.9.11"
  }
 },
 "nbformat": 4,
 "nbformat_minor": 5
}
