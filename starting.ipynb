{
 "cells": [
  {
   "cell_type": "code",
   "execution_count": 1,
   "id": "d7936efd",
   "metadata": {},
   "outputs": [
    {
     "name": "stdout",
     "output_type": "stream",
     "text": [
      "Requirement already satisfied: sklearn in c:\\users\\diego merello\\miniconda3\\envs\\project3\\lib\\site-packages (0.0)\n",
      "Requirement already satisfied: scikit-learn in c:\\users\\diego merello\\miniconda3\\envs\\project3\\lib\\site-packages (from sklearn) (1.0.2)\n",
      "Requirement already satisfied: joblib>=0.11 in c:\\users\\diego merello\\miniconda3\\envs\\project3\\lib\\site-packages (from scikit-learn->sklearn) (1.1.0)\n",
      "Requirement already satisfied: threadpoolctl>=2.0.0 in c:\\users\\diego merello\\miniconda3\\envs\\project3\\lib\\site-packages (from scikit-learn->sklearn) (3.1.0)\n",
      "Requirement already satisfied: numpy>=1.14.6 in c:\\users\\diego merello\\miniconda3\\envs\\project3\\lib\\site-packages (from scikit-learn->sklearn) (1.21.5)\n",
      "Requirement already satisfied: scipy>=1.1.0 in c:\\users\\diego merello\\miniconda3\\envs\\project3\\lib\\site-packages (from scikit-learn->sklearn) (1.8.0)\n"
     ]
    }
   ],
   "source": [
    "! pip install sklearn"
   ]
  },
  {
   "cell_type": "code",
   "execution_count": 2,
   "id": "bedf7698",
   "metadata": {},
   "outputs": [
    {
     "name": "stdout",
     "output_type": "stream",
     "text": [
      "Requirement already satisfied: scipy in c:\\users\\diego merello\\miniconda3\\envs\\project3\\lib\\site-packages (1.8.0)\n",
      "Requirement already satisfied: numpy<1.25.0,>=1.17.3 in c:\\users\\diego merello\\miniconda3\\envs\\project3\\lib\\site-packages (from scipy) (1.21.5)\n",
      "Note: you may need to restart the kernel to use updated packages.\n"
     ]
    }
   ],
   "source": [
    "pip install scipy\n"
   ]
  },
  {
   "cell_type": "code",
   "execution_count": 3,
   "id": "09fbc96f",
   "metadata": {},
   "outputs": [
    {
     "name": "stdout",
     "output_type": "stream",
     "text": [
      "Requirement already satisfied: sklearn in c:\\users\\diego merello\\miniconda3\\envs\\project3\\lib\\site-packages (0.0)\n",
      "Requirement already satisfied: scikit-learn in c:\\users\\diego merello\\miniconda3\\envs\\project3\\lib\\site-packages (from sklearn) (1.0.2)\n",
      "Requirement already satisfied: numpy>=1.14.6 in c:\\users\\diego merello\\miniconda3\\envs\\project3\\lib\\site-packages (from scikit-learn->sklearn) (1.21.5)\n",
      "Requirement already satisfied: threadpoolctl>=2.0.0 in c:\\users\\diego merello\\miniconda3\\envs\\project3\\lib\\site-packages (from scikit-learn->sklearn) (3.1.0)\n",
      "Requirement already satisfied: joblib>=0.11 in c:\\users\\diego merello\\miniconda3\\envs\\project3\\lib\\site-packages (from scikit-learn->sklearn) (1.1.0)\n",
      "Requirement already satisfied: scipy>=1.1.0 in c:\\users\\diego merello\\miniconda3\\envs\\project3\\lib\\site-packages (from scikit-learn->sklearn) (1.8.0)\n",
      "Note: you may need to restart the kernel to use updated packages.\n"
     ]
    }
   ],
   "source": [
    "pip install sklearn\n"
   ]
  },
  {
   "cell_type": "code",
   "execution_count": 4,
   "id": "fc0fa049",
   "metadata": {},
   "outputs": [
    {
     "name": "stdout",
     "output_type": "stream",
     "text": [
      "Requirement already satisfied: sklearn in c:\\users\\diego merello\\miniconda3\\envs\\project3\\lib\\site-packages (0.0)\n",
      "Requirement already satisfied: scikit-learn in c:\\users\\diego merello\\miniconda3\\envs\\project3\\lib\\site-packages (from sklearn) (1.0.2)\n",
      "Requirement already satisfied: scipy>=1.1.0 in c:\\users\\diego merello\\miniconda3\\envs\\project3\\lib\\site-packages (from scikit-learn->sklearn) (1.8.0)\n",
      "Requirement already satisfied: threadpoolctl>=2.0.0 in c:\\users\\diego merello\\miniconda3\\envs\\project3\\lib\\site-packages (from scikit-learn->sklearn) (3.1.0)\n",
      "Requirement already satisfied: joblib>=0.11 in c:\\users\\diego merello\\miniconda3\\envs\\project3\\lib\\site-packages (from scikit-learn->sklearn) (1.1.0)\n",
      "Requirement already satisfied: numpy>=1.14.6 in c:\\users\\diego merello\\miniconda3\\envs\\project3\\lib\\site-packages (from scikit-learn->sklearn) (1.21.5)\n"
     ]
    }
   ],
   "source": [
    "! pip install sklearn"
   ]
  },
  {
   "cell_type": "code",
   "execution_count": 5,
   "id": "8a24dc36",
   "metadata": {},
   "outputs": [
    {
     "name": "stdout",
     "output_type": "stream",
     "text": [
      "Requirement already satisfied: matplotlib in c:\\users\\diego merello\\miniconda3\\envs\\project3\\lib\\site-packages (3.5.1)\n",
      "Requirement already satisfied: python-dateutil>=2.7 in c:\\users\\diego merello\\miniconda3\\envs\\project3\\lib\\site-packages (from matplotlib) (2.8.2)\n",
      "Requirement already satisfied: numpy>=1.17 in c:\\users\\diego merello\\miniconda3\\envs\\project3\\lib\\site-packages (from matplotlib) (1.21.5)\n",
      "Requirement already satisfied: fonttools>=4.22.0 in c:\\users\\diego merello\\miniconda3\\envs\\project3\\lib\\site-packages (from matplotlib) (4.31.2)\n",
      "Requirement already satisfied: cycler>=0.10 in c:\\users\\diego merello\\miniconda3\\envs\\project3\\lib\\site-packages (from matplotlib) (0.11.0)\n",
      "Requirement already satisfied: pillow>=6.2.0 in c:\\users\\diego merello\\miniconda3\\envs\\project3\\lib\\site-packages (from matplotlib) (9.0.1)\n",
      "Requirement already satisfied: kiwisolver>=1.0.1 in c:\\users\\diego merello\\miniconda3\\envs\\project3\\lib\\site-packages (from matplotlib) (1.4.2)\n",
      "Requirement already satisfied: packaging>=20.0 in c:\\users\\diego merello\\miniconda3\\envs\\project3\\lib\\site-packages (from matplotlib) (21.3)\n",
      "Requirement already satisfied: pyparsing>=2.2.1 in c:\\users\\diego merello\\miniconda3\\envs\\project3\\lib\\site-packages (from matplotlib) (3.0.4)\n",
      "Requirement already satisfied: six>=1.5 in c:\\users\\diego merello\\miniconda3\\envs\\project3\\lib\\site-packages (from python-dateutil>=2.7->matplotlib) (1.16.0)\n",
      "Note: you may need to restart the kernel to use updated packages.\n"
     ]
    },
    {
     "name": "stderr",
     "output_type": "stream",
     "text": [
      "WARNING: Retrying (Retry(total=4, connect=None, read=None, redirect=None, status=None)) after connection broken by 'NewConnectionError('<pip._vendor.urllib3.connection.HTTPSConnection object at 0x0000017E78E11DC0>: Failed to establish a new connection: [Errno 11001] getaddrinfo failed')': /simple/matplotlib/\n"
     ]
    }
   ],
   "source": [
    "pip install -U matplotlib"
   ]
  },
  {
   "cell_type": "code",
   "execution_count": 162,
   "id": "354e92a3",
   "metadata": {},
   "outputs": [
    {
     "ename": "ModuleNotFoundError",
     "evalue": "No module named 'xgboost'",
     "output_type": "error",
     "traceback": [
      "\u001b[1;31m---------------------------------------------------------------------------\u001b[0m",
      "\u001b[1;31mModuleNotFoundError\u001b[0m                       Traceback (most recent call last)",
      "Input \u001b[1;32mIn [162]\u001b[0m, in \u001b[0;36m<cell line: 11>\u001b[1;34m()\u001b[0m\n\u001b[0;32m      9\u001b[0m \u001b[38;5;28;01mfrom\u001b[39;00m \u001b[38;5;21;01msklearn\u001b[39;00m\u001b[38;5;21;01m.\u001b[39;00m\u001b[38;5;21;01mmetrics\u001b[39;00m \u001b[38;5;28;01mimport\u001b[39;00m mean_squared_error\n\u001b[0;32m     10\u001b[0m \u001b[38;5;28;01mfrom\u001b[39;00m \u001b[38;5;21;01msklearn\u001b[39;00m\u001b[38;5;21;01m.\u001b[39;00m\u001b[38;5;21;01mmodel_selection\u001b[39;00m \u001b[38;5;28;01mimport\u001b[39;00m train_test_split\n\u001b[1;32m---> 11\u001b[0m \u001b[38;5;28;01mimport\u001b[39;00m \u001b[38;5;21;01mxgboost\u001b[39;00m \u001b[38;5;28;01mas\u001b[39;00m \u001b[38;5;21;01mxgb\u001b[39;00m\n",
      "\u001b[1;31mModuleNotFoundError\u001b[0m: No module named 'xgboost'"
     ]
    }
   ],
   "source": [
    "import pandas as pd\n",
    "import numpy as np\n",
    "import os\n",
    "import sqlite3\n",
    "import matplotlib.pyplot as plt\n",
    "from sklearn.preprocessing import StandardScaler\n",
    "from sklearn.linear_model import LinearRegression\n",
    "from sklearn.ensemble import RandomForestRegressor\n",
    "from sklearn.metrics import mean_squared_error\n",
    "from sklearn.model_selection import train_test_split\n",
    "import xgboost as xgb"
   ]
  },
  {
   "cell_type": "code",
   "execution_count": 125,
   "id": "e1f01326",
   "metadata": {},
   "outputs": [],
   "source": [
    "df_train=pd.read_csv('Diamondssql.csv')\n",
    "df_test=pd.read_csv('diamonds_test.csv')"
   ]
  },
  {
   "cell_type": "code",
   "execution_count": 126,
   "id": "2e7bd1ae",
   "metadata": {},
   "outputs": [
    {
     "data": {
      "text/plain": [
       "Index(['color', 'cut', 'clarity', 'price', 'city', 'depth', 'carat', 'table',\n",
       "       'x', 'y', 'z'],\n",
       "      dtype='object')"
      ]
     },
     "execution_count": 126,
     "metadata": {},
     "output_type": "execute_result"
    }
   ],
   "source": [
    "df_train.columns"
   ]
  },
  {
   "cell_type": "code",
   "execution_count": 127,
   "id": "72050205",
   "metadata": {},
   "outputs": [
    {
     "data": {
      "text/html": [
       "<div>\n",
       "<style scoped>\n",
       "    .dataframe tbody tr th:only-of-type {\n",
       "        vertical-align: middle;\n",
       "    }\n",
       "\n",
       "    .dataframe tbody tr th {\n",
       "        vertical-align: top;\n",
       "    }\n",
       "\n",
       "    .dataframe thead th {\n",
       "        text-align: right;\n",
       "    }\n",
       "</style>\n",
       "<table border=\"1\" class=\"dataframe\">\n",
       "  <thead>\n",
       "    <tr style=\"text-align: right;\">\n",
       "      <th></th>\n",
       "      <th>color</th>\n",
       "      <th>cut</th>\n",
       "      <th>clarity</th>\n",
       "      <th>price</th>\n",
       "      <th>city</th>\n",
       "      <th>depth</th>\n",
       "      <th>carat</th>\n",
       "      <th>table</th>\n",
       "      <th>x</th>\n",
       "      <th>y</th>\n",
       "      <th>z</th>\n",
       "    </tr>\n",
       "  </thead>\n",
       "  <tbody>\n",
       "    <tr>\n",
       "      <th>0</th>\n",
       "      <td>J</td>\n",
       "      <td>Premium</td>\n",
       "      <td>VS2</td>\n",
       "      <td>4268</td>\n",
       "      <td>Dubai</td>\n",
       "      <td>62.4</td>\n",
       "      <td>1.21</td>\n",
       "      <td>58.0</td>\n",
       "      <td>6.83</td>\n",
       "      <td>6.79</td>\n",
       "      <td>4.25</td>\n",
       "    </tr>\n",
       "    <tr>\n",
       "      <th>1</th>\n",
       "      <td>H</td>\n",
       "      <td>Very Good</td>\n",
       "      <td>VS2</td>\n",
       "      <td>505</td>\n",
       "      <td>Kimberly</td>\n",
       "      <td>63.0</td>\n",
       "      <td>0.32</td>\n",
       "      <td>57.0</td>\n",
       "      <td>4.35</td>\n",
       "      <td>4.38</td>\n",
       "      <td>2.75</td>\n",
       "    </tr>\n",
       "    <tr>\n",
       "      <th>2</th>\n",
       "      <td>G</td>\n",
       "      <td>Fair</td>\n",
       "      <td>VS1</td>\n",
       "      <td>2686</td>\n",
       "      <td>Las Vegas</td>\n",
       "      <td>65.5</td>\n",
       "      <td>0.71</td>\n",
       "      <td>55.0</td>\n",
       "      <td>5.62</td>\n",
       "      <td>5.53</td>\n",
       "      <td>3.65</td>\n",
       "    </tr>\n",
       "    <tr>\n",
       "      <th>3</th>\n",
       "      <td>D</td>\n",
       "      <td>Good</td>\n",
       "      <td>SI1</td>\n",
       "      <td>738</td>\n",
       "      <td>Kimberly</td>\n",
       "      <td>63.8</td>\n",
       "      <td>0.41</td>\n",
       "      <td>56.0</td>\n",
       "      <td>4.68</td>\n",
       "      <td>4.72</td>\n",
       "      <td>3.00</td>\n",
       "    </tr>\n",
       "    <tr>\n",
       "      <th>4</th>\n",
       "      <td>G</td>\n",
       "      <td>Ideal</td>\n",
       "      <td>SI1</td>\n",
       "      <td>4882</td>\n",
       "      <td>Dubai</td>\n",
       "      <td>60.5</td>\n",
       "      <td>1.02</td>\n",
       "      <td>59.0</td>\n",
       "      <td>6.55</td>\n",
       "      <td>6.51</td>\n",
       "      <td>3.95</td>\n",
       "    </tr>\n",
       "    <tr>\n",
       "      <th>...</th>\n",
       "      <td>...</td>\n",
       "      <td>...</td>\n",
       "      <td>...</td>\n",
       "      <td>...</td>\n",
       "      <td>...</td>\n",
       "      <td>...</td>\n",
       "      <td>...</td>\n",
       "      <td>...</td>\n",
       "      <td>...</td>\n",
       "      <td>...</td>\n",
       "      <td>...</td>\n",
       "    </tr>\n",
       "    <tr>\n",
       "      <th>40450</th>\n",
       "      <td>G</td>\n",
       "      <td>Ideal</td>\n",
       "      <td>VS1</td>\n",
       "      <td>10070</td>\n",
       "      <td>Antwerp</td>\n",
       "      <td>62.7</td>\n",
       "      <td>1.34</td>\n",
       "      <td>57.0</td>\n",
       "      <td>7.10</td>\n",
       "      <td>7.04</td>\n",
       "      <td>4.43</td>\n",
       "    </tr>\n",
       "    <tr>\n",
       "      <th>40451</th>\n",
       "      <td>F</td>\n",
       "      <td>Good</td>\n",
       "      <td>SI2</td>\n",
       "      <td>12615</td>\n",
       "      <td>Madrid</td>\n",
       "      <td>57.1</td>\n",
       "      <td>2.02</td>\n",
       "      <td>60.0</td>\n",
       "      <td>8.31</td>\n",
       "      <td>8.25</td>\n",
       "      <td>4.73</td>\n",
       "    </tr>\n",
       "    <tr>\n",
       "      <th>40452</th>\n",
       "      <td>H</td>\n",
       "      <td>Ideal</td>\n",
       "      <td>SI1</td>\n",
       "      <td>5457</td>\n",
       "      <td>Kimberly</td>\n",
       "      <td>62.7</td>\n",
       "      <td>1.01</td>\n",
       "      <td>56.0</td>\n",
       "      <td>6.37</td>\n",
       "      <td>6.42</td>\n",
       "      <td>4.01</td>\n",
       "    </tr>\n",
       "    <tr>\n",
       "      <th>40453</th>\n",
       "      <td>J</td>\n",
       "      <td>Ideal</td>\n",
       "      <td>VS1</td>\n",
       "      <td>456</td>\n",
       "      <td>Kimberly</td>\n",
       "      <td>61.9</td>\n",
       "      <td>0.33</td>\n",
       "      <td>54.3</td>\n",
       "      <td>4.45</td>\n",
       "      <td>4.47</td>\n",
       "      <td>2.76</td>\n",
       "    </tr>\n",
       "    <tr>\n",
       "      <th>40454</th>\n",
       "      <td>I</td>\n",
       "      <td>Ideal</td>\n",
       "      <td>SI1</td>\n",
       "      <td>6232</td>\n",
       "      <td>London</td>\n",
       "      <td>62.0</td>\n",
       "      <td>1.24</td>\n",
       "      <td>58.0</td>\n",
       "      <td>6.83</td>\n",
       "      <td>6.88</td>\n",
       "      <td>4.25</td>\n",
       "    </tr>\n",
       "  </tbody>\n",
       "</table>\n",
       "<p>40455 rows × 11 columns</p>\n",
       "</div>"
      ],
      "text/plain": [
       "      color        cut clarity  price       city  depth  carat  table     x  \\\n",
       "0         J    Premium     VS2   4268      Dubai   62.4   1.21   58.0  6.83   \n",
       "1         H  Very Good     VS2    505   Kimberly   63.0   0.32   57.0  4.35   \n",
       "2         G       Fair     VS1   2686  Las Vegas   65.5   0.71   55.0  5.62   \n",
       "3         D       Good     SI1    738   Kimberly   63.8   0.41   56.0  4.68   \n",
       "4         G      Ideal     SI1   4882      Dubai   60.5   1.02   59.0  6.55   \n",
       "...     ...        ...     ...    ...        ...    ...    ...    ...   ...   \n",
       "40450     G      Ideal     VS1  10070    Antwerp   62.7   1.34   57.0  7.10   \n",
       "40451     F       Good     SI2  12615     Madrid   57.1   2.02   60.0  8.31   \n",
       "40452     H      Ideal     SI1   5457   Kimberly   62.7   1.01   56.0  6.37   \n",
       "40453     J      Ideal     VS1    456   Kimberly   61.9   0.33   54.3  4.45   \n",
       "40454     I      Ideal     SI1   6232     London   62.0   1.24   58.0  6.83   \n",
       "\n",
       "          y     z  \n",
       "0      6.79  4.25  \n",
       "1      4.38  2.75  \n",
       "2      5.53  3.65  \n",
       "3      4.72  3.00  \n",
       "4      6.51  3.95  \n",
       "...     ...   ...  \n",
       "40450  7.04  4.43  \n",
       "40451  8.25  4.73  \n",
       "40452  6.42  4.01  \n",
       "40453  4.47  2.76  \n",
       "40454  6.88  4.25  \n",
       "\n",
       "[40455 rows x 11 columns]"
      ]
     },
     "execution_count": 127,
     "metadata": {},
     "output_type": "execute_result"
    }
   ],
   "source": [
    "df_train"
   ]
  },
  {
   "cell_type": "code",
   "execution_count": 128,
   "id": "8fc47099",
   "metadata": {},
   "outputs": [
    {
     "data": {
      "text/html": [
       "<div>\n",
       "<style scoped>\n",
       "    .dataframe tbody tr th:only-of-type {\n",
       "        vertical-align: middle;\n",
       "    }\n",
       "\n",
       "    .dataframe tbody tr th {\n",
       "        vertical-align: top;\n",
       "    }\n",
       "\n",
       "    .dataframe thead th {\n",
       "        text-align: right;\n",
       "    }\n",
       "</style>\n",
       "<table border=\"1\" class=\"dataframe\">\n",
       "  <thead>\n",
       "    <tr style=\"text-align: right;\">\n",
       "      <th></th>\n",
       "      <th>id</th>\n",
       "      <th>carat</th>\n",
       "      <th>cut</th>\n",
       "      <th>color</th>\n",
       "      <th>clarity</th>\n",
       "      <th>depth</th>\n",
       "      <th>table</th>\n",
       "      <th>x</th>\n",
       "      <th>y</th>\n",
       "      <th>z</th>\n",
       "      <th>city</th>\n",
       "    </tr>\n",
       "  </thead>\n",
       "  <tbody>\n",
       "    <tr>\n",
       "      <th>0</th>\n",
       "      <td>0</td>\n",
       "      <td>0.79</td>\n",
       "      <td>Very Good</td>\n",
       "      <td>F</td>\n",
       "      <td>SI1</td>\n",
       "      <td>62.7</td>\n",
       "      <td>60.0</td>\n",
       "      <td>5.82</td>\n",
       "      <td>5.89</td>\n",
       "      <td>3.67</td>\n",
       "      <td>Amsterdam</td>\n",
       "    </tr>\n",
       "    <tr>\n",
       "      <th>1</th>\n",
       "      <td>1</td>\n",
       "      <td>1.20</td>\n",
       "      <td>Ideal</td>\n",
       "      <td>J</td>\n",
       "      <td>VS1</td>\n",
       "      <td>61.0</td>\n",
       "      <td>57.0</td>\n",
       "      <td>6.81</td>\n",
       "      <td>6.89</td>\n",
       "      <td>4.18</td>\n",
       "      <td>Surat</td>\n",
       "    </tr>\n",
       "    <tr>\n",
       "      <th>2</th>\n",
       "      <td>2</td>\n",
       "      <td>1.57</td>\n",
       "      <td>Premium</td>\n",
       "      <td>H</td>\n",
       "      <td>SI1</td>\n",
       "      <td>62.2</td>\n",
       "      <td>61.0</td>\n",
       "      <td>7.38</td>\n",
       "      <td>7.32</td>\n",
       "      <td>4.57</td>\n",
       "      <td>Kimberly</td>\n",
       "    </tr>\n",
       "    <tr>\n",
       "      <th>3</th>\n",
       "      <td>3</td>\n",
       "      <td>0.90</td>\n",
       "      <td>Very Good</td>\n",
       "      <td>F</td>\n",
       "      <td>SI1</td>\n",
       "      <td>63.8</td>\n",
       "      <td>54.0</td>\n",
       "      <td>6.09</td>\n",
       "      <td>6.13</td>\n",
       "      <td>3.90</td>\n",
       "      <td>Kimberly</td>\n",
       "    </tr>\n",
       "    <tr>\n",
       "      <th>4</th>\n",
       "      <td>4</td>\n",
       "      <td>0.50</td>\n",
       "      <td>Very Good</td>\n",
       "      <td>F</td>\n",
       "      <td>VS1</td>\n",
       "      <td>62.9</td>\n",
       "      <td>58.0</td>\n",
       "      <td>5.05</td>\n",
       "      <td>5.09</td>\n",
       "      <td>3.19</td>\n",
       "      <td>Amsterdam</td>\n",
       "    </tr>\n",
       "    <tr>\n",
       "      <th>...</th>\n",
       "      <td>...</td>\n",
       "      <td>...</td>\n",
       "      <td>...</td>\n",
       "      <td>...</td>\n",
       "      <td>...</td>\n",
       "      <td>...</td>\n",
       "      <td>...</td>\n",
       "      <td>...</td>\n",
       "      <td>...</td>\n",
       "      <td>...</td>\n",
       "      <td>...</td>\n",
       "    </tr>\n",
       "    <tr>\n",
       "      <th>13480</th>\n",
       "      <td>13480</td>\n",
       "      <td>0.57</td>\n",
       "      <td>Ideal</td>\n",
       "      <td>E</td>\n",
       "      <td>SI1</td>\n",
       "      <td>61.9</td>\n",
       "      <td>56.0</td>\n",
       "      <td>5.35</td>\n",
       "      <td>5.32</td>\n",
       "      <td>3.30</td>\n",
       "      <td>Amsterdam</td>\n",
       "    </tr>\n",
       "    <tr>\n",
       "      <th>13481</th>\n",
       "      <td>13481</td>\n",
       "      <td>0.71</td>\n",
       "      <td>Ideal</td>\n",
       "      <td>I</td>\n",
       "      <td>VS2</td>\n",
       "      <td>62.2</td>\n",
       "      <td>55.0</td>\n",
       "      <td>5.71</td>\n",
       "      <td>5.73</td>\n",
       "      <td>3.56</td>\n",
       "      <td>New York City</td>\n",
       "    </tr>\n",
       "    <tr>\n",
       "      <th>13482</th>\n",
       "      <td>13482</td>\n",
       "      <td>0.70</td>\n",
       "      <td>Ideal</td>\n",
       "      <td>F</td>\n",
       "      <td>VS1</td>\n",
       "      <td>61.6</td>\n",
       "      <td>55.0</td>\n",
       "      <td>5.75</td>\n",
       "      <td>5.71</td>\n",
       "      <td>3.53</td>\n",
       "      <td>Tel Aviv</td>\n",
       "    </tr>\n",
       "    <tr>\n",
       "      <th>13483</th>\n",
       "      <td>13483</td>\n",
       "      <td>0.70</td>\n",
       "      <td>Very Good</td>\n",
       "      <td>F</td>\n",
       "      <td>SI2</td>\n",
       "      <td>58.8</td>\n",
       "      <td>57.0</td>\n",
       "      <td>5.85</td>\n",
       "      <td>5.89</td>\n",
       "      <td>3.45</td>\n",
       "      <td>Surat</td>\n",
       "    </tr>\n",
       "    <tr>\n",
       "      <th>13484</th>\n",
       "      <td>13484</td>\n",
       "      <td>0.40</td>\n",
       "      <td>Ideal</td>\n",
       "      <td>I</td>\n",
       "      <td>VVS2</td>\n",
       "      <td>62.4</td>\n",
       "      <td>55.0</td>\n",
       "      <td>4.70</td>\n",
       "      <td>4.73</td>\n",
       "      <td>2.94</td>\n",
       "      <td>New York City</td>\n",
       "    </tr>\n",
       "  </tbody>\n",
       "</table>\n",
       "<p>13485 rows × 11 columns</p>\n",
       "</div>"
      ],
      "text/plain": [
       "          id  carat        cut color clarity  depth  table     x     y     z  \\\n",
       "0          0   0.79  Very Good     F     SI1   62.7   60.0  5.82  5.89  3.67   \n",
       "1          1   1.20      Ideal     J     VS1   61.0   57.0  6.81  6.89  4.18   \n",
       "2          2   1.57    Premium     H     SI1   62.2   61.0  7.38  7.32  4.57   \n",
       "3          3   0.90  Very Good     F     SI1   63.8   54.0  6.09  6.13  3.90   \n",
       "4          4   0.50  Very Good     F     VS1   62.9   58.0  5.05  5.09  3.19   \n",
       "...      ...    ...        ...   ...     ...    ...    ...   ...   ...   ...   \n",
       "13480  13480   0.57      Ideal     E     SI1   61.9   56.0  5.35  5.32  3.30   \n",
       "13481  13481   0.71      Ideal     I     VS2   62.2   55.0  5.71  5.73  3.56   \n",
       "13482  13482   0.70      Ideal     F     VS1   61.6   55.0  5.75  5.71  3.53   \n",
       "13483  13483   0.70  Very Good     F     SI2   58.8   57.0  5.85  5.89  3.45   \n",
       "13484  13484   0.40      Ideal     I    VVS2   62.4   55.0  4.70  4.73  2.94   \n",
       "\n",
       "                city  \n",
       "0          Amsterdam  \n",
       "1              Surat  \n",
       "2           Kimberly  \n",
       "3           Kimberly  \n",
       "4          Amsterdam  \n",
       "...              ...  \n",
       "13480      Amsterdam  \n",
       "13481  New York City  \n",
       "13482       Tel Aviv  \n",
       "13483          Surat  \n",
       "13484  New York City  \n",
       "\n",
       "[13485 rows x 11 columns]"
      ]
     },
     "execution_count": 128,
     "metadata": {},
     "output_type": "execute_result"
    }
   ],
   "source": [
    "df_test"
   ]
  },
  {
   "cell_type": "code",
   "execution_count": 129,
   "id": "b0e5b5ea",
   "metadata": {},
   "outputs": [],
   "source": [
    "target=['price']\n",
    "cat_features=['cut', 'color', 'clarity', 'city']\n",
    "num_features=['carat', 'depth', 'table', 'x', 'y', 'z']"
   ]
  },
  {
   "cell_type": "code",
   "execution_count": 130,
   "id": "e01daa38",
   "metadata": {},
   "outputs": [],
   "source": [
    "for cat_feat in cat_features:\n",
    "    df_train[cat_feat]=df_train[cat_feat].astype('category')\n",
    "    df_test[cat_feat]=df_test[cat_feat].astype('category')"
   ]
  },
  {
   "cell_type": "code",
   "execution_count": 131,
   "id": "3fdafd86",
   "metadata": {},
   "outputs": [],
   "source": [
    "cat_df=pd.get_dummies(df_train[cat_features])\n",
    "num_df=df_train.loc[:, num_features]\n",
    "train_df=pd.concat([cat_df,num_df], axis=1)\n",
    "\n",
    "cat_df =pd.get_dummies(df_test[cat_features])\n",
    "num_df=df_test.loc[:, num_features]\n",
    "test_df= pd.concat([cat_df, num_df], axis=1)\n",
    "\n",
    "features= list (cat_df.columns) + list(num_df.columns)"
   ]
  },
  {
   "cell_type": "code",
   "execution_count": 135,
   "id": "801eb04a",
   "metadata": {},
   "outputs": [
    {
     "data": {
      "text/plain": [
       "['cut_Fair',\n",
       " 'cut_Good',\n",
       " 'cut_Ideal',\n",
       " 'cut_Premium',\n",
       " 'cut_Very Good',\n",
       " 'color_D',\n",
       " 'color_E',\n",
       " 'color_F',\n",
       " 'color_G',\n",
       " 'color_H',\n",
       " 'color_I',\n",
       " 'color_J',\n",
       " 'clarity_I1',\n",
       " 'clarity_IF',\n",
       " 'clarity_SI1',\n",
       " 'clarity_SI2',\n",
       " 'clarity_VS1',\n",
       " 'clarity_VS2',\n",
       " 'clarity_VVS1',\n",
       " 'clarity_VVS2',\n",
       " 'city_Amsterdam',\n",
       " 'city_Antwerp',\n",
       " 'city_Dubai',\n",
       " 'city_Kimberly',\n",
       " 'city_Las Vegas',\n",
       " 'city_London',\n",
       " 'city_Luxembourg',\n",
       " 'city_Madrid',\n",
       " 'city_New York City',\n",
       " 'city_Paris',\n",
       " 'city_Surat',\n",
       " 'city_Tel Aviv',\n",
       " 'city_Zurich',\n",
       " 'carat',\n",
       " 'depth',\n",
       " 'table',\n",
       " 'x',\n",
       " 'y',\n",
       " 'z']"
      ]
     },
     "execution_count": 135,
     "metadata": {},
     "output_type": "execute_result"
    }
   ],
   "source": [
    "features"
   ]
  },
  {
   "cell_type": "code",
   "execution_count": 157,
   "id": "4a89a7d2",
   "metadata": {},
   "outputs": [],
   "source": [
    "scaler = StandardScaler()\n",
    "x = scaler.fit_transform(train_df.loc[:,features].values)\n",
    "y = df_train['price']"
   ]
  },
  {
   "cell_type": "code",
   "execution_count": 158,
   "id": "ba7bbc44",
   "metadata": {},
   "outputs": [
    {
     "data": {
      "text/plain": [
       "RandomForestRegressor()"
      ]
     },
     "execution_count": 158,
     "metadata": {},
     "output_type": "execute_result"
    }
   ],
   "source": [
    "model = RandomForestRegressor()\n",
    "model.fit(x,y)"
   ]
  },
  {
   "cell_type": "code",
   "execution_count": 159,
   "id": "824c735b",
   "metadata": {},
   "outputs": [
    {
     "data": {
      "text/plain": [
       "array([[-1.20712903, 10.72869524, -2.4873753 , ..., -5.21349011,\n",
       "        -5.09310043, -5.00683876],\n",
       "       [-1.20712903, -1.41509049,  1.6760477 , ..., -5.25303573,\n",
       "        -5.17676503, -5.39787952],\n",
       "       [-1.20712903, -1.41509049,  1.6760477 , ..., -6.09931195,\n",
       "        -5.96016994, -6.69448836],\n",
       "       ...,\n",
       "       [-1.20712903, -1.41509049,  1.6760477 , ..., -5.08694414,\n",
       "        -4.96380059, -5.08916313],\n",
       "       [-1.20712903, -1.41509049, -2.4873753 , ..., -4.69148796,\n",
       "        -4.66717155, -4.73928455],\n",
       "       [-1.20712903, -1.41509049, -2.4873753 , ..., -3.64748366,\n",
       "        -3.64037871, -3.05163495]])"
      ]
     },
     "execution_count": 159,
     "metadata": {},
     "output_type": "execute_result"
    }
   ],
   "source": [
    "X_test"
   ]
  },
  {
   "cell_type": "code",
   "execution_count": 161,
   "id": "b1f8c7fc",
   "metadata": {},
   "outputs": [],
   "source": [
    "X_test= scaler.transform(test_df.loc[:,features].values)\n",
    "y_hat = model.predict(X_test).clip(0,30000) #esta es la predicción. es un array de numpy\n",
    "submission = pd.DataFrame({'id': df_test['id'], 'price': y_hat}) #convertimos a dataframe y le damos forma\n",
    "submission.to_csv('submission3.csv', index=False)"
   ]
  },
  {
   "cell_type": "code",
   "execution_count": null,
   "id": "77235cf3",
   "metadata": {},
   "outputs": [],
   "source": [
    "mean_squared_error()"
   ]
  }
 ],
 "metadata": {
  "kernelspec": {
   "display_name": "Python [conda env:project3]",
   "language": "python",
   "name": "conda-env-project3-py"
  },
  "language_info": {
   "codemirror_mode": {
    "name": "ipython",
    "version": 3
   },
   "file_extension": ".py",
   "mimetype": "text/x-python",
   "name": "python",
   "nbconvert_exporter": "python",
   "pygments_lexer": "ipython3",
   "version": "3.9.11"
  }
 },
 "nbformat": 4,
 "nbformat_minor": 5
}
